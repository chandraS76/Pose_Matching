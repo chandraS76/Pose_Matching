{
 "cells": [
  {
   "cell_type": "code",
   "execution_count": 1,
   "metadata": {},
   "outputs": [],
   "source": [
    "import cv2\n",
    "import mediapipe as mp\n",
    "import tensorflow as tf\n",
    "import time\n",
    "\n",
    "mp_drawing = mp.solutions.drawing_utils\n",
    "mp_drawing_styles = mp.solutions.drawing_styles\n",
    "mp_pose = mp.solutions.pose"
   ]
  },
  {
   "cell_type": "code",
   "execution_count": 5,
   "metadata": {},
   "outputs": [],
   "source": [
    "image_path = './videos/vid.mp4'\n",
    "\n",
    "image_path2 = './videos/inp.gif'\n",
    "cap1 = cv2.VideoCapture(image_path)\n",
    "cap2 = cv2.VideoCapture(image_path2)"
   ]
  },
  {
   "cell_type": "code",
   "execution_count": 6,
   "metadata": {},
   "outputs": [],
   "source": [
    "with mp_pose.Pose(min_detection_confidence=0.5, min_tracking_confidence=0.6) as pose:\n",
    "    with mp_pose.Pose(min_detection_confidence=0.5, min_tracking_confidence=0.6) as pose2:\n",
    "        while cap1.isOpened() and cap2.isOpened():\n",
    "            time.sleep(0.5)\n",
    "            ret1, frame1 = cap1.read()\n",
    "            ret2, frame2 = cap2.read()\n",
    "\n",
    "            \n",
    "\n",
    "            if ret1 and ret2:\n",
    "                frame1 = cv2.cvtColor(frame1, cv2.COLOR_BGR2RGB)\n",
    "                frame1.flags.writeable= False\n",
    "                frame2 = cv2.cvtColor(frame2, cv2.COLOR_BGR2RGB)\n",
    "                frame2.flags.writeable= False\n",
    "\n",
    "                results1 = pose.process(frame1)\n",
    "                results2 = pose2.process(frame2)\n",
    "\n",
    "                frame1 = cv2.cvtColor(frame1, cv2.COLOR_RGB2BGR)\n",
    "                frame1.flags.writeable= True\n",
    "                frame2 = cv2.cvtColor(frame2, cv2.COLOR_RGB2BGR)\n",
    "                frame2.flags.writeable= True\n",
    "\n",
    "                mp_drawing.draw_landmarks(\n",
    "                frame1,\n",
    "                results1.pose_landmarks,\n",
    "                mp_pose.POSE_CONNECTIONS,\n",
    "                landmark_drawing_spec=mp_drawing_styles.get_default_pose_landmarks_style())\n",
    "\n",
    "                mp_drawing.draw_landmarks(\n",
    "                frame2,\n",
    "                results2.pose_landmarks,\n",
    "                mp_pose.POSE_CONNECTIONS,\n",
    "                landmark_drawing_spec=mp_drawing_styles.get_default_pose_landmarks_style())\n",
    "                cv2.imshow(\"Vid1\", frame1)\n",
    "                cv2.imshow(\"vid2\", frame2)\n",
    "            else:\n",
    "                break\n",
    "\n",
    "\n",
    "            if cv2.waitKey(10) & 0xFF == ord('q'):\n",
    "                break\n",
    "\n",
    "cap1.release()\n",
    "cap2.release()\n",
    "cv2.destroyAllWindows()"
   ]
  }
 ],
 "metadata": {
  "kernelspec": {
   "display_name": "Python 3.8.10 ('new_env')",
   "language": "python",
   "name": "python3"
  },
  "language_info": {
   "codemirror_mode": {
    "name": "ipython",
    "version": 3
   },
   "file_extension": ".py",
   "mimetype": "text/x-python",
   "name": "python",
   "nbconvert_exporter": "python",
   "pygments_lexer": "ipython3",
   "version": "3.8.10"
  },
  "orig_nbformat": 4,
  "vscode": {
   "interpreter": {
    "hash": "90e108869e6b33751ab7aa5bd78b61547b86c46f85f7b9005ba5d63c7651e272"
   }
  }
 },
 "nbformat": 4,
 "nbformat_minor": 2
}
